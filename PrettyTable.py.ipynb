{
 "cells": [
  {
   "cell_type": "markdown",
   "metadata": {},
   "source": [
    "# $pip install prettytable\n",
    "\n",
    "## Library: \n",
    "### PrettyTable is for output table in a pretty format Create table object using PrettyTable and then start adding rows. "
   ]
  },
  {
   "cell_type": "code",
   "execution_count": 1,
   "metadata": {},
   "outputs": [],
   "source": [
    "from prettytable import PrettyTable"
   ]
  },
  {
   "cell_type": "code",
   "execution_count": 2,
   "metadata": {},
   "outputs": [],
   "source": [
    "table= PrettyTable()"
   ]
  },
  {
   "cell_type": "code",
   "execution_count": 3,
   "metadata": {},
   "outputs": [],
   "source": [
    "table. field_names=['NAME', 'AGE', 'GENDER','DEPTMENT']"
   ]
  },
  {
   "cell_type": "code",
   "execution_count": 7,
   "metadata": {},
   "outputs": [],
   "source": [
    "table.add_row(['Ritik kumar', 20, 'Male', ' IT'])\n",
    "table.add_row(['Aarav Modi',28, 'Male', ' IT'])\n",
    "table.add_row(['Nilesh kumar',30, 'Male', ' CS'])\n",
    "table.add_row(['Adarsh kumar',50, 'Male', ' EC'])\n",
    "table.add_row(['Richa kumar',10, 'female', ' ECE'])"
   ]
  },
  {
   "cell_type": "code",
   "execution_count": 8,
   "metadata": {},
   "outputs": [
    {
     "name": "stdout",
     "output_type": "stream",
     "text": [
      "+--------------+-----+--------+----------+\n",
      "|     NAME     | AGE | GENDER | DEPTMENT |\n",
      "+--------------+-----+--------+----------+\n",
      "| Ritik kumar  |  20 |  Male  |    IT    |\n",
      "| Ritik kumar  |  20 |  Male  |    IT    |\n",
      "|  Aarav Modi  |  28 |  Male  |    IT    |\n",
      "| Nilesh kumar |  30 |  Male  |    CS    |\n",
      "| Adarsh kumar |  50 |  Male  |    EC    |\n",
      "| Richa kumar  |  10 | female |    ECE   |\n",
      "+--------------+-----+--------+----------+\n"
     ]
    }
   ],
   "source": [
    "print(table)"
   ]
  }
 ],
 "metadata": {
  "kernelspec": {
   "display_name": "Python 3",
   "language": "python",
   "name": "python3"
  },
  "language_info": {
   "codemirror_mode": {
    "name": "ipython",
    "version": 3
   },
   "file_extension": ".py",
   "mimetype": "text/x-python",
   "name": "python",
   "nbconvert_exporter": "python",
   "pygments_lexer": "ipython3",
   "version": "3.7.6"
  }
 },
 "nbformat": 4,
 "nbformat_minor": 4
}
